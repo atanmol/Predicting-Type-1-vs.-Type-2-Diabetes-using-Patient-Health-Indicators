{
 "cells": [
  {
   "cell_type": "markdown",
   "id": "57f80c2d",
   "metadata": {},
   "source": [
    "# Predicting Diabetes Type (Type 1 vs Type 2) — Synthetic Dataset (100 Patients)\n",
    "\n",
    "**Goal:** Build a simple, end-to-end pipeline to predict whether a person is **Type 1** or **Type 2** diabetic using demographic, clinical, and lab features.\n",
    "\n",
    "> ⚠️ This is a **synthetic, educational** dataset — not for medical use. The features and labels are simulated with plausible patterns and noise.\n"
   ]
  },
  {
   "cell_type": "code",
   "execution_count": null,
   "id": "cef4c58b",
   "metadata": {},
   "outputs": [],
   "source": [
    "import pandas as pd\n",
    "import numpy as np\n",
    "import matplotlib.pyplot as plt\n",
    "\n",
    "from sklearn.model_selection import train_test_split\n",
    "from sklearn.preprocessing import OneHotEncoder, StandardScaler\n",
    "from sklearn.compose import ColumnTransformer\n",
    "from sklearn.pipeline import Pipeline\n",
    "from sklearn.linear_model import LinearRegression, LogisticRegression\n",
    "from sklearn.metrics import classification_report, confusion_matrix, accuracy_score, r2_score, mean_absolute_error\n",
    "\n",
    "pd.set_option('display.max_columns', None)"
   ]
  },
  {
   "cell_type": "markdown",
   "id": "e2aa64c4",
   "metadata": {},
   "source": [
    "## Load Data"
   ]
  },
  {
   "cell_type": "code",
   "execution_count": null,
   "id": "f8d448d6",
   "metadata": {},
   "outputs": [],
   "source": [
    "df = pd.read_csv(r\"/mnt/data/diabetes_type_prediction_100.csv\")\n",
    "df.head()"
   ]
  },
  {
   "cell_type": "markdown",
   "id": "07effc6b",
   "metadata": {},
   "source": [
    "## Structure & Missing Values"
   ]
  },
  {
   "cell_type": "code",
   "execution_count": null,
   "id": "a205e7ee",
   "metadata": {},
   "outputs": [],
   "source": [
    "df.info()"
   ]
  },
  {
   "cell_type": "code",
   "execution_count": null,
   "id": "a612a844",
   "metadata": {},
   "outputs": [],
   "source": [
    "df.isna().sum()"
   ]
  },
  {
   "cell_type": "markdown",
   "id": "affb86b1",
   "metadata": {},
   "source": [
    "No missing values are expected, but if any appear, we would impute:\n",
    "- **Numeric**: median\n",
    "- **Categorical**: 'Unknown'"
   ]
  },
  {
   "cell_type": "markdown",
   "id": "fad89105",
   "metadata": {},
   "source": [
    "## Target Distribution"
   ]
  },
  {
   "cell_type": "code",
   "execution_count": null,
   "id": "be79afe8",
   "metadata": {},
   "outputs": [],
   "source": [
    "counts = df['DiabetesType'].value_counts().sort_index()\n",
    "plt.figure()\n",
    "counts.plot(kind='bar')\n",
    "plt.title('Distribution of Diabetes Type')\n",
    "plt.xlabel('Type')\n",
    "plt.ylabel('Count')\n",
    "plt.tight_layout()\n",
    "plt.show()\n",
    "\n",
    "counts"
   ]
  },
  {
   "cell_type": "markdown",
   "id": "a0b20363",
   "metadata": {},
   "source": [
    "## Feature Engineering (optional)"
   ]
  },
  {
   "cell_type": "code",
   "execution_count": null,
   "id": "e49a0f2d",
   "metadata": {},
   "outputs": [],
   "source": [
    "df['PulsePressure'] = df['SystolicBP'] - df['DiastolicBP']\n",
    "\n",
    "def bmi_class(x):\n",
    "    if x < 18.5: return 'Underweight'\n",
    "    if x < 25: return 'Normal'\n",
    "    if x < 30: return 'Overweight'\n",
    "    return 'Obese'\n",
    "\n",
    "df['BMI_Class'] = df['BMI'].apply(bmi_class)\n",
    "df[['BMI','BMI_Class','PulsePressure']].head()"
   ]
  },
  {
   "cell_type": "markdown",
   "id": "e31bb495",
   "metadata": {},
   "source": [
    "## Train/Test Split & Preprocessing"
   ]
  },
  {
   "cell_type": "code",
   "execution_count": null,
   "id": "f0d98970",
   "metadata": {},
   "outputs": [],
   "source": [
    "target = 'DiabetesType'\n",
    "X = df.drop(columns=[target])\n",
    "y = df[target].astype(int)\n",
    "\n",
    "numeric_features = X.select_dtypes(include=[np.number]).columns.tolist()\n",
    "categorical_features = X.select_dtypes(exclude=[np.number]).columns.tolist()\n",
    "\n",
    "numeric_transformer = Pipeline(steps=[('scaler', StandardScaler())])\n",
    "categorical_transformer = Pipeline(steps=[('ohe', OneHotEncoder(handle_unknown='ignore'))])\n",
    "\n",
    "preprocess = ColumnTransformer(\n",
    "    transformers=[('num', numeric_transformer, numeric_features),\n",
    "                  ('cat', categorical_transformer, categorical_features)]\n",
    ")\n",
    "\n",
    "X_train, X_test, y_train, y_test = train_test_split(\n",
    "    X, y, test_size=0.25, random_state=42, stratify=y\n",
    ")\n",
    "\n",
    "len(X_train), len(X_test)"
   ]
  },
  {
   "cell_type": "markdown",
   "id": "e56ef894",
   "metadata": {},
   "source": [
    "## Model 1 — Simple Linear Regression (with Thresholding)"
   ]
  },
  {
   "cell_type": "markdown",
   "id": "3df94b32",
   "metadata": {},
   "source": [
    "We first build a **Linear Regression** model (as requested).\n",
    "It predicts a continuous value; we convert it to a class using a **1.5 threshold**:\n",
    "- Predicted Type = 1 if prediction < **1.5**, else 2.\n"
   ]
  },
  {
   "cell_type": "code",
   "execution_count": null,
   "id": "18ee77ef",
   "metadata": {},
   "outputs": [],
   "source": [
    "linreg = Pipeline(steps=[('prep', preprocess),\n",
    "                         ('lr', LinearRegression())])\n",
    "linreg.fit(X_train, y_train)\n",
    "\n",
    "y_pred_cont = linreg.predict(X_test)\n",
    "y_pred_cls = np.where(y_pred_cont < 1.5, 1, 2)\n",
    "\n",
    "print('Linear Regression evaluation (continuous):')\n",
    "print('  R^2:', round(r2_score(y_test, y_pred_cont), 4))\n",
    "print('  MAE:', round(mean_absolute_error(y_test, y_pred_cont), 4))\n",
    "\n",
    "print('\\nLinear Regression (thresholded to classes):')\n",
    "print('  Accuracy:', round(accuracy_score(y_test, y_pred_cls), 4))\n",
    "print('  Confusion Matrix:\\n', confusion_matrix(y_test, y_pred_cls))\n",
    "print('\\nClassification Report:\\n', classification_report(y_test, y_pred_cls, digits=4))"
   ]
  },
  {
   "cell_type": "markdown",
   "id": "c89f68d9",
   "metadata": {},
   "source": [
    "## Model 2 — Logistic Regression (Baseline Classifier)"
   ]
  },
  {
   "cell_type": "markdown",
   "id": "7ae7fa94",
   "metadata": {},
   "source": [
    "**Logistic Regression** is a more appropriate baseline for a binary outcome.\n",
    "We fit it and compare metrics with the thresholded linear regression above.\n"
   ]
  },
  {
   "cell_type": "code",
   "execution_count": null,
   "id": "cf8d8d9a",
   "metadata": {},
   "outputs": [],
   "source": [
    "logreg = Pipeline(steps=[('prep', preprocess),\n",
    "                         ('clf', LogisticRegression(max_iter=1000))])\n",
    "logreg.fit(X_train, y_train)\n",
    "\n",
    "y_pred_log = logreg.predict(X_test)\n",
    "\n",
    "print('Logistic Regression:')\n",
    "print('  Accuracy:', round(accuracy_score(y_test, y_pred_log), 4))\n",
    "print('  Confusion Matrix:\\n', confusion_matrix(y_test, y_pred_log))\n",
    "print('\\nClassification Report:\\n', classification_report(y_test, y_pred_log, digits=4))"
   ]
  },
  {
   "cell_type": "markdown",
   "id": "088229dd",
   "metadata": {},
   "source": [
    "## How to Predict for a New Person"
   ]
  },
  {
   "cell_type": "code",
   "execution_count": null,
   "id": "5197c73d",
   "metadata": {},
   "outputs": [],
   "source": [
    "example_person = {\n",
    "    'Age': 28,\n",
    "    'Sex': 'Male',\n",
    "    'BMI': 19.2,\n",
    "    'SystolicBP': 112,\n",
    "    'DiastolicBP': 72,\n",
    "    'FastingGlucose_mgdl': 165.0,\n",
    "    'HbA1c': 7.8,\n",
    "    'TotalCholesterol': 170,\n",
    "    'Triglycerides': 140,\n",
    "    'ActivityLevel': 'Moderate',\n",
    "    'Smoker': 'No',\n",
    "    'RetinaFinding': 'None',\n",
    "    'FamilyHistory_T2D': 'None',\n",
    "    'AutoimmuneHistory': 'Yes',\n",
    "    'GAD65_Antibody': 'Positive',\n",
    "    'C_Peptide_ngml': 0.6,\n",
    "    'OnsetAge': 24,\n",
    "    'DKA_History': 'Yes',\n",
    "    'PastDiseases': 'Thyroid',\n",
    "    'PulsePressure': 112-72,\n",
    "    'BMI_Class': 'Normal'\n",
    "}\n",
    "\n",
    "newX = pd.DataFrame([example_person])\n",
    "\n",
    "pred_cont = linreg.predict(newX)[0]\n",
    "pred_type_lin = 1 if pred_cont < 1.5 else 2\n",
    "\n",
    "pred_type_log = int(logreg.predict(newX)[0])\n",
    "\n",
    "print('Linear Regression predicted continuous:', round(pred_cont, 3))\n",
    "print('Linear Regression -> Type:', pred_type_lin)\n",
    "print('Logistic Regression -> Type:', pred_type_log)"
   ]
  },
  {
   "cell_type": "markdown",
   "id": "6458cc1c",
   "metadata": {},
   "source": [
    "## Results, Limitations, and Recommendations\n",
    "\n",
    "**Results**\n",
    "- Built two models: a **Linear Regression** with thresholding and a **Logistic Regression** classifier.\n",
    "- Reported accuracy, confusion matrix, and classification report on a hold-out test set.\n",
    "\n",
    "**Limitations**\n",
    "- Data is **synthetic** and small (n=100), so generalization is limited.\n",
    "- Labels are generated from heuristic rules + noise; not medically validated.\n",
    "- Linear Regression is not ideal for classification; used here per requirement and for comparison.\n",
    "- Class balance may vary run-to-run; metrics can fluctuate.\n",
    "\n",
    "**Recommendations**\n",
    "- Use **larger, real datasets** with clinically validated labels.\n",
    "- Prefer **classification models** (Logistic Regression, Random Forest, XGBoost).\n",
    "- Add **calibration** and **probability thresholds** tuned via ROC/PR analysis.\n",
    "- Incorporate more features (OGTT results, islet antibodies panel, C‑peptide fasting/stimulated) and time-to-insulin requirement.\n"
   ]
  }
 ],
 "metadata": {},
 "nbformat": 4,
 "nbformat_minor": 5
}
